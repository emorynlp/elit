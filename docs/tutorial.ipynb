{
 "cells": [
  {
   "cell_type": "markdown",
   "metadata": {
    "id": "JEsqbG3EcLTV",
    "pycharm": {
     "name": "#%% md\n"
    }
   },
   "source": [
    "[![Open In Colab](https://colab.research.google.com/assets/colab-badge.svg)](https://colab.research.google.com/github/emorynlp/elit/blob/dev/docs/tutorial.ipynb)\n",
    "\n",
    "ELIT can be installed using pip, though it's not officially on PyPi yet."
   ]
  },
  {
   "cell_type": "code",
   "execution_count": null,
   "metadata": {
    "pycharm": {
     "name": "#%%\n"
    }
   },
   "outputs": [],
   "source": [
    "!pip install -U git+https://github.com/emorynlp/elit.git@dev"
   ]
  },
  {
   "cell_type": "markdown",
   "source": [
    "The common workflow for ELIT is to load a model then call it as a function. Models in ELIT are represented as string typed indentifiers which are grouped by tasks. For example, let's list all the models in ELIT."
   ],
   "metadata": {
    "collapsed": false
   }
  },
  {
   "cell_type": "code",
   "execution_count": null,
   "outputs": [],
   "source": [
    "import elit\n",
    "elit.pretrained.ALL"
   ],
   "metadata": {
    "collapsed": false,
    "pycharm": {
     "name": "#%%\n"
    }
   }
  },
  {
   "cell_type": "markdown",
   "source": [
    "List all the MultiTaskLearning models:"
   ],
   "metadata": {
    "collapsed": false
   }
  },
  {
   "cell_type": "code",
   "execution_count": null,
   "outputs": [],
   "source": [
    "elit.pretrained.mtl.ALL"
   ],
   "metadata": {
    "collapsed": false,
    "pycharm": {
     "name": "#%%\n"
    }
   }
  },
  {
   "cell_type": "markdown",
   "source": [
    "ELIT offers several models for the same task with different settings. For example, the `LEM_POS_NER_DEP_SDP_CON_AMR_ROBERTA_BASE_EN` model is finetuned with RoBERTa-base. Let's load it and see what it can do."
   ],
   "metadata": {
    "collapsed": false
   }
  },
  {
   "cell_type": "code",
   "execution_count": null,
   "outputs": [],
   "source": [
    "mtl = elit.load(elit.pretrained.mtl.LEM_POS_NER_DEP_SDP_CON_AMR_ROBERTA_BASE_EN)"
   ],
   "metadata": {
    "collapsed": false,
    "pycharm": {
     "name": "#%%\n"
    }
   }
  },
  {
   "cell_type": "markdown",
   "source": [
    "Once you call `load` on a model, ELIT will download it and load it into the main memory or the GPU if you have one. The loaded model behaves just like a function which you can pass in a list of tokenized sentences as arguments and get the annotations as the returned value."
   ],
   "metadata": {
    "collapsed": false
   }
  },
  {
   "cell_type": "code",
   "execution_count": null,
   "outputs": [],
   "source": [
    "doc = mtl([\n",
    "     [\"Emory\", \"NLP\", \"is\", \"a\", \"research\", \"lab\", \"in\", \"Atlanta\", \".\"],\n",
    "     [\"It\", \"is\", \"founded\", \"by\", \"Jinho\", \"D.\", \"Choi\", \"in\", \"2014\", \".\", \"Dr.\", \"Choi\", \"is\", \"a\", \"professor\", \"at\", \"Emory\", \"University\", \".\"]\n",
    "])\n",
    "doc"
   ],
   "metadata": {
    "collapsed": false,
    "pycharm": {
     "name": "#%%\n"
    }
   }
  },
  {
   "cell_type": "markdown",
   "source": [
    "As you can see, the returned `doc` is a Python dict storing outputs from different models. Refer to our GitHub docs for its format and guidelines."
   ],
   "metadata": {
    "collapsed": false,
    "pycharm": {
     "name": "#%% md\n"
    }
   }
  },
  {
   "cell_type": "code",
   "execution_count": 1,
   "metadata": {
    "colab": {
     "base_uri": "https://localhost:8080/"
    },
    "id": "M2kjBfKJVV4i",
    "outputId": "0d14eabf-b0e2-4614-cdba-2c97e21b3792",
    "scrolled": false
   },
   "outputs": [
    {
     "name": "stdout",
     "output_type": "stream",
     "text": [
      "Collecting git+https://github.com/emorynlp/elit.git@dev\n",
      "  Cloning https://github.com/emorynlp/elit.git (to revision dev) to /tmp/pip-req-build-1i85sscw\n",
      "  Running command git clone -q https://github.com/emorynlp/elit.git /tmp/pip-req-build-1i85sscw\n",
      "  Running command git checkout -b dev --track origin/dev\n",
      "  Switched to a new branch 'dev'\n",
      "  Branch 'dev' set up to track remote branch 'dev' from 'origin'.\n",
      "Requirement already satisfied, skipping upgrade: sentencepiece==0.1.91 in /usr/local/lib/python3.6/dist-packages (from elit==2.0.0a0) (0.1.91)\n",
      "Requirement already satisfied, skipping upgrade: termcolor in /usr/local/lib/python3.6/dist-packages (from elit==2.0.0a0) (1.1.0)\n",
      "Requirement already satisfied, skipping upgrade: phrasetree in /usr/local/lib/python3.6/dist-packages (from elit==2.0.0a0) (0.0.6)\n",
      "Requirement already satisfied, skipping upgrade: pynvml in /usr/local/lib/python3.6/dist-packages (from elit==2.0.0a0) (8.0.4)\n",
      "Requirement already satisfied, skipping upgrade: alnlp in /usr/local/lib/python3.6/dist-packages (from elit==2.0.0a0) (1.0.0rc25)\n",
      "Requirement already satisfied, skipping upgrade: penman==0.6.2 in /usr/local/lib/python3.6/dist-packages (from elit==2.0.0a0) (0.6.2)\n",
      "Requirement already satisfied, skipping upgrade: toposort==1.5 in /usr/local/lib/python3.6/dist-packages (from elit==2.0.0a0) (1.5)\n",
      "Requirement already satisfied, skipping upgrade: unofficial_stog in /usr/local/lib/python3.6/dist-packages (from elit==2.0.0a0) (0.0.13)\n",
      "Requirement already satisfied, skipping upgrade: uvicorn in /usr/local/lib/python3.6/dist-packages (from elit==2.0.0a0) (0.13.3)\n",
      "Requirement already satisfied, skipping upgrade: fastapi in /usr/local/lib/python3.6/dist-packages (from elit==2.0.0a0) (0.63.0)\n",
      "Requirement already satisfied, skipping upgrade: transformers in /usr/local/lib/python3.6/dist-packages (from elit==2.0.0a0) (4.3.2)\n",
      "Requirement already satisfied, skipping upgrade: scipy in /usr/local/lib/python3.6/dist-packages (from elit==2.0.0a0) (1.4.1)\n",
      "Requirement already satisfied, skipping upgrade: overrides in /usr/local/lib/python3.6/dist-packages (from alnlp->elit==2.0.0a0) (3.1.0)\n",
      "Requirement already satisfied, skipping upgrade: torch in /usr/local/lib/python3.6/dist-packages (from alnlp->elit==2.0.0a0) (1.7.0+cu101)\n",
      "Requirement already satisfied, skipping upgrade: docopt>=0.6.0 in /usr/local/lib/python3.6/dist-packages (from penman==0.6.2->elit==2.0.0a0) (0.6.2)\n",
      "Requirement already satisfied, skipping upgrade: ftfy in /usr/local/lib/python3.6/dist-packages (from unofficial_stog->elit==2.0.0a0) (5.8)\n",
      "Requirement already satisfied, skipping upgrade: editdistance in /usr/local/lib/python3.6/dist-packages (from unofficial_stog->elit==2.0.0a0) (0.5.3)\n",
      "Requirement already satisfied, skipping upgrade: networkx in /usr/local/lib/python3.6/dist-packages (from unofficial_stog->elit==2.0.0a0) (2.5)\n",
      "Requirement already satisfied, skipping upgrade: word2number in /usr/local/lib/python3.6/dist-packages (from unofficial_stog->elit==2.0.0a0) (1.1)\n",
      "Requirement already satisfied, skipping upgrade: click==7.* in /usr/local/lib/python3.6/dist-packages (from uvicorn->elit==2.0.0a0) (7.1.2)\n",
      "Requirement already satisfied, skipping upgrade: typing-extensions; python_version < \"3.8\" in /usr/local/lib/python3.6/dist-packages (from uvicorn->elit==2.0.0a0) (3.7.4.3)\n",
      "Requirement already satisfied, skipping upgrade: h11>=0.8 in /usr/local/lib/python3.6/dist-packages (from uvicorn->elit==2.0.0a0) (0.12.0)\n",
      "Requirement already satisfied, skipping upgrade: pydantic<2.0.0,>=1.0.0 in /usr/local/lib/python3.6/dist-packages (from fastapi->elit==2.0.0a0) (1.7.3)\n",
      "Requirement already satisfied, skipping upgrade: starlette==0.13.6 in /usr/local/lib/python3.6/dist-packages (from fastapi->elit==2.0.0a0) (0.13.6)\n",
      "Requirement already satisfied, skipping upgrade: sacremoses in /usr/local/lib/python3.6/dist-packages (from transformers->elit==2.0.0a0) (0.0.43)\n",
      "Requirement already satisfied, skipping upgrade: tokenizers<0.11,>=0.10.1 in /usr/local/lib/python3.6/dist-packages (from transformers->elit==2.0.0a0) (0.10.1)\n",
      "Requirement already satisfied, skipping upgrade: dataclasses; python_version < \"3.7\" in /usr/local/lib/python3.6/dist-packages (from transformers->elit==2.0.0a0) (0.8)\n",
      "Requirement already satisfied, skipping upgrade: importlib-metadata; python_version < \"3.8\" in /usr/local/lib/python3.6/dist-packages (from transformers->elit==2.0.0a0) (3.4.0)\n",
      "Requirement already satisfied, skipping upgrade: requests in /usr/local/lib/python3.6/dist-packages (from transformers->elit==2.0.0a0) (2.23.0)\n",
      "Requirement already satisfied, skipping upgrade: numpy>=1.17 in /usr/local/lib/python3.6/dist-packages (from transformers->elit==2.0.0a0) (1.19.5)\n",
      "Requirement already satisfied, skipping upgrade: packaging in /usr/local/lib/python3.6/dist-packages (from transformers->elit==2.0.0a0) (20.9)\n",
      "Requirement already satisfied, skipping upgrade: regex!=2019.12.17 in /usr/local/lib/python3.6/dist-packages (from transformers->elit==2.0.0a0) (2019.12.20)\n",
      "Requirement already satisfied, skipping upgrade: tqdm>=4.27 in /usr/local/lib/python3.6/dist-packages (from transformers->elit==2.0.0a0) (4.41.1)\n",
      "Requirement already satisfied, skipping upgrade: filelock in /usr/local/lib/python3.6/dist-packages (from transformers->elit==2.0.0a0) (3.0.12)\n",
      "Requirement already satisfied, skipping upgrade: future in /usr/local/lib/python3.6/dist-packages (from torch->alnlp->elit==2.0.0a0) (0.16.0)\n",
      "Requirement already satisfied, skipping upgrade: wcwidth in /usr/local/lib/python3.6/dist-packages (from ftfy->unofficial_stog->elit==2.0.0a0) (0.2.5)\n",
      "Requirement already satisfied, skipping upgrade: decorator>=4.3.0 in /usr/local/lib/python3.6/dist-packages (from networkx->unofficial_stog->elit==2.0.0a0) (4.4.2)\n",
      "Requirement already satisfied, skipping upgrade: joblib in /usr/local/lib/python3.6/dist-packages (from sacremoses->transformers->elit==2.0.0a0) (1.0.0)\n",
      "Requirement already satisfied, skipping upgrade: six in /usr/local/lib/python3.6/dist-packages (from sacremoses->transformers->elit==2.0.0a0) (1.15.0)\n",
      "Requirement already satisfied, skipping upgrade: zipp>=0.5 in /usr/local/lib/python3.6/dist-packages (from importlib-metadata; python_version < \"3.8\"->transformers->elit==2.0.0a0) (3.4.0)\n",
      "Requirement already satisfied, skipping upgrade: idna<3,>=2.5 in /usr/local/lib/python3.6/dist-packages (from requests->transformers->elit==2.0.0a0) (2.10)\n",
      "Requirement already satisfied, skipping upgrade: urllib3!=1.25.0,!=1.25.1,<1.26,>=1.21.1 in /usr/local/lib/python3.6/dist-packages (from requests->transformers->elit==2.0.0a0) (1.24.3)\n",
      "Requirement already satisfied, skipping upgrade: chardet<4,>=3.0.2 in /usr/local/lib/python3.6/dist-packages (from requests->transformers->elit==2.0.0a0) (3.0.4)\n",
      "Requirement already satisfied, skipping upgrade: certifi>=2017.4.17 in /usr/local/lib/python3.6/dist-packages (from requests->transformers->elit==2.0.0a0) (2020.12.5)\n",
      "Requirement already satisfied, skipping upgrade: pyparsing>=2.0.2 in /usr/local/lib/python3.6/dist-packages (from packaging->transformers->elit==2.0.0a0) (2.4.7)\n",
      "Building wheels for collected packages: elit\n",
      "  Building wheel for elit (setup.py) ... \u001B[?25l\u001B[?25hdone\n",
      "  Created wheel for elit: filename=elit-2.0.0a0-cp36-none-any.whl size=450825 sha256=aed0090b6dcda16e832337291a8e68994b15d1d31d3864e7028ea7842be29b50\n",
      "  Stored in directory: /tmp/pip-ephem-wheel-cache-3jp631f7/wheels/6a/27/ba/27dafb4d248c33ad7841e480c3413bf938c38ff71e97b7cacb\n",
      "Successfully built elit\n",
      "Installing collected packages: elit\n",
      "  Found existing installation: elit 2.0.0a0\n",
      "    Uninstalling elit-2.0.0a0:\n",
      "      Successfully uninstalled elit-2.0.0a0\n",
      "Successfully installed elit-2.0.0a0\n"
     ]
    }
   ],
   "source": [
    "As you can see, the returned `doc` is a Python dict storing outputs from different models. Refer to our GitHub docs for its format and guidelines."
   ]
  },
  {
   "cell_type": "markdown",
   "metadata": {
    "id": "qFWxRPEBc6PQ"
   },
   "source": [
    "The common workflow for ELIT is to load a model then call it as a function. Models in ELIT are represented as string typed indentifiers which are grouped by tasks. For example, let's list all the models in ELIT."
   ]
  },
  {
   "cell_type": "code",
   "execution_count": 2,
   "metadata": {
    "colab": {
     "base_uri": "https://localhost:8080/"
    },
    "id": "pwOpIwPEiI-S",
    "outputId": "a1de06c1-863c-4177-aa88-adb7e26590bb"
   },
   "outputs": [
    {
     "data": {
      "text/plain": [
       "{'DOC_COREF_SPANBERT_BASE_EN': 'https://elit-models.s3-us-west-2.amazonaws.com/v2/doc_coref_spanbert_base_20201222.zip',\n",
       " 'DOC_COREF_SPANBERT_LARGE_EN': 'https://elit-models.s3-us-west-2.amazonaws.com/v2/doc_coref_spanbert_large_20201222.zip',\n",
       " 'LEM_POS_NER_DEP_SDP_CON_AMR_ELECTRA_BASE_EN': 'https://elit-models.s3-us-west-2.amazonaws.com/v2/en_pos_ner_srl_dep_con_amr_electra_base_20201222.zip',\n",
       " 'LEM_POS_NER_DEP_SDP_CON_AMR_ROBERTA_BASE_EN': 'https://elit-models.s3-us-west-2.amazonaws.com/v2/en_pos_ner_srl_dep_con_amr_roberta_base_20201219.zip',\n",
       " 'ONLINE_COREF_SPANBERT_BASE_EN': 'https://elit-models.s3-us-west-2.amazonaws.com/v2/online_coref_spanbert_base_20201222.zip',\n",
       " 'ONLINE_COREF_SPANBERT_LARGE_EN': 'https://elit-models.s3-us-west-2.amazonaws.com/v2/online_coref_spanbert_large_20201222.zip'}"
      ]
     },
     "execution_count": 2,
     "metadata": {
      "tags": []
     },
     "output_type": "execute_result"
    }
   ],
   "source": [
    "import elit\n",
    "elit.pretrained.ALL"
   ]
  },
  {
   "cell_type": "markdown",
   "metadata": {
    "id": "G3h3e3hLi-hE"
   },
   "source": [
    "List all the MultiTaskLearning models:"
   ]
  },
  {
   "cell_type": "code",
   "execution_count": 3,
   "metadata": {
    "colab": {
     "base_uri": "https://localhost:8080/"
    },
    "id": "GFQBnfsyjHKr",
    "outputId": "aea65f4c-0c93-4bf6-e821-2c7d43823dc2"
   },
   "outputs": [
    {
     "data": {
      "text/plain": [
       "{'LEM_POS_NER_DEP_SDP_CON_AMR_ELECTRA_BASE_EN': 'https://elit-models.s3-us-west-2.amazonaws.com/v2/en_pos_ner_srl_dep_con_amr_electra_base_20201222.zip',\n",
       " 'LEM_POS_NER_DEP_SDP_CON_AMR_ROBERTA_BASE_EN': 'https://elit-models.s3-us-west-2.amazonaws.com/v2/en_pos_ner_srl_dep_con_amr_roberta_base_20201219.zip'}"
      ]
     },
     "execution_count": 3,
     "metadata": {
      "tags": []
     },
     "output_type": "execute_result"
    }
   ],
   "source": [
    "elit.pretrained.mtl.ALL"
   ]
  },
  {
   "cell_type": "markdown",
   "metadata": {
    "id": "ct8nCfVAjNWV"
   },
   "source": [
    "ELIT offers several models for the same task with different settings. For example, the `LEM_POS_NER_DEP_SDP_CON_AMR_ROBERTA_BASE_EN` model is finetuned with RoBERTa-base. Let's load it and see what it can do."
   ]
  },
  {
   "cell_type": "code",
   "execution_count": 4,
   "metadata": {
    "colab": {
     "base_uri": "https://localhost:8080/",
     "height": 477,
     "referenced_widgets": [
      "f1f828817c8d4ca388b4e042fdd1fc01",
      "f059614b4f7c4a8091d11b9f47e3bc65",
      "e97ed112c6514d338c52dd6336d90846",
      "65cea109d54b4107bc14e067975c10cc",
      "fe2d3c2b85954622ae7e89aeaab17aec",
      "d9e9aeb4335048b29d25637e1c546299",
      "a617a1c973a64fd186c8e5d2c9a0c07f",
      "ddf835fef52347dc9da373ee0a4fd06d",
      "812879fb4f5f4e7e8c7423f17e3c791f",
      "85db0313c6d64c0e8a988b21e2989636",
      "cb4028b0a529489c8999acd7189f751c",
      "2d31f00b0f8c49758734777c251781c0",
      "b8301e17364d4fc88b372e4f5fc92c62",
      "1cde4e5a80614ac3bd0b7a725a1cf55f",
      "083d8838c9e747fe84851b70bc9f8dd6",
      "4807dbb9f9e7496e9c279768c684f35b",
      "60fbc730923d490bb1ff201467f3e77c",
      "483fff57b9674b21b306916e999a00b5",
      "ce8025139f304b68ac74f1adae5c732b",
      "a450d122e4624c5396d45faecc8d0669",
      "ade6a90971f0460eb96f12cd27f75041",
      "6d7b59f8f5414bea91f1b54666d088e1",
      "6dfef9ae28e549e591042ccc198ae056",
      "233f25e2c4e344fda8b14043a7538ba4",
      "5b6938cacc174a038841a5e67fad27c5",
      "335d58e158ff44319f4cb9829bafbad9",
      "743fee8fbfc74214a724d560a0df7ff7",
      "2648ec6ff34541cfa90eaebd194fe71d",
      "30dfe49443bd403c97eab5651139a50b",
      "6abde990df3242088902cffe12dc00a0",
      "8e2cd821c7634bb398f12baa71c8246c",
      "aaf3d9618cb04a76bb3f676f510e8e9d"
     ]
    },
    "id": "vnjYWKSPj2aX",
    "outputId": "7f3be6d2-4a84-4a8c-90f1-ee3295ddc50f"
   },
   "outputs": [
    {
     "name": "stderr",
     "output_type": "stream",
     "text": [
      "Downloading https://elit-models.s3-us-west-2.amazonaws.com/v2/en_pos_ner_srl_dep_con_amr_roberta_base_20201219.zip to /root/.elit/en_pos_ner_srl_dep_con_amr_roberta_base_20201219.zip\n",
      "100.00%, 488.6 MB/488.6 MB, 3.1 MB/s, ETA 0 s      \n",
      "Extracting /root/.elit/en_pos_ner_srl_dep_con_amr_roberta_base_20201219.zip to /root/.elit\n",
      "Downloading https://od.hankcs.com/research/amr2020/amr_3.0_utils.tgz to /root/.elit/thirdparty/od.hankcs.com/research/amr2020/amr_3.0_utils.tgz\n",
      "100.00%, 3.8 MB/3.8 MB, 4.5 MB/s, ETA 0 s      \n",
      "Extracting /root/.elit/thirdparty/od.hankcs.com/research/amr2020/amr_3.0_utils.tgz to /root/.elit/thirdparty/od.hankcs.com/research/amr2020\n",
      "[2021-02-10 01:33:42,300 INFO] Lock 140422279085416 acquired on /root/.cache/huggingface/transformers/733bade19e5f0ce98e6531021dd5180994bb2f7b8bd7e80c7968805834ba351e.35205c6cfc956461d8515139f0f8dd5d207a2f336c0c3a83b4bc8dca3518e37b.lock\n"
     ]
    },
    {
     "data": {
      "application/vnd.jupyter.widget-view+json": {
       "model_id": "f1f828817c8d4ca388b4e042fdd1fc01",
       "version_major": 2,
       "version_minor": 0
      },
      "text/plain": [
       "HBox(children=(FloatProgress(value=0.0, description='Downloading', max=481.0, style=ProgressStyle(description_…"
      ]
     },
     "metadata": {
      "tags": []
     },
     "output_type": "display_data"
    },
    {
     "name": "stderr",
     "output_type": "stream",
     "text": [
      "[2021-02-10 01:33:42,757 INFO] Lock 140422279085416 released on /root/.cache/huggingface/transformers/733bade19e5f0ce98e6531021dd5180994bb2f7b8bd7e80c7968805834ba351e.35205c6cfc956461d8515139f0f8dd5d207a2f336c0c3a83b4bc8dca3518e37b.lock\n"
     ]
    },
    {
     "name": "stdout",
     "output_type": "stream",
     "text": [
      "\n"
     ]
    },
    {
     "name": "stderr",
     "output_type": "stream",
     "text": [
      "[2021-02-10 01:33:43,029 INFO] Lock 140422262262584 acquired on /root/.cache/huggingface/transformers/d3ccdbfeb9aaa747ef20432d4976c32ee3fa69663b379deb253ccfce2bb1fdc5.d67d6b367eb24ab43b08ad55e014cf254076934f71d832bbab9ad35644a375ab.lock\n"
     ]
    },
    {
     "data": {
      "application/vnd.jupyter.widget-view+json": {
       "model_id": "812879fb4f5f4e7e8c7423f17e3c791f",
       "version_major": 2,
       "version_minor": 0
      },
      "text/plain": [
       "HBox(children=(FloatProgress(value=0.0, description='Downloading', max=898823.0, style=ProgressStyle(descripti…"
      ]
     },
     "metadata": {
      "tags": []
     },
     "output_type": "display_data"
    },
    {
     "name": "stderr",
     "output_type": "stream",
     "text": [
      "[2021-02-10 01:33:43,712 INFO] Lock 140422262262584 released on /root/.cache/huggingface/transformers/d3ccdbfeb9aaa747ef20432d4976c32ee3fa69663b379deb253ccfce2bb1fdc5.d67d6b367eb24ab43b08ad55e014cf254076934f71d832bbab9ad35644a375ab.lock\n"
     ]
    },
    {
     "name": "stdout",
     "output_type": "stream",
     "text": [
      "\n"
     ]
    },
    {
     "name": "stderr",
     "output_type": "stream",
     "text": [
      "[2021-02-10 01:33:43,979 INFO] Lock 140422276590280 acquired on /root/.cache/huggingface/transformers/cafdecc90fcab17011e12ac813dd574b4b3fea39da6dd817813efa010262ff3f.5d12962c5ee615a4c803841266e9c3be9a691a924f72d395d3a6c6c81157788b.lock\n"
     ]
    },
    {
     "data": {
      "application/vnd.jupyter.widget-view+json": {
       "model_id": "60fbc730923d490bb1ff201467f3e77c",
       "version_major": 2,
       "version_minor": 0
      },
      "text/plain": [
       "HBox(children=(FloatProgress(value=0.0, description='Downloading', max=456318.0, style=ProgressStyle(descripti…"
      ]
     },
     "metadata": {
      "tags": []
     },
     "output_type": "display_data"
    },
    {
     "name": "stderr",
     "output_type": "stream",
     "text": [
      "[2021-02-10 01:33:44,579 INFO] Lock 140422276590280 released on /root/.cache/huggingface/transformers/cafdecc90fcab17011e12ac813dd574b4b3fea39da6dd817813efa010262ff3f.5d12962c5ee615a4c803841266e9c3be9a691a924f72d395d3a6c6c81157788b.lock\n"
     ]
    },
    {
     "name": "stdout",
     "output_type": "stream",
     "text": [
      "\n"
     ]
    },
    {
     "name": "stderr",
     "output_type": "stream",
     "text": [
      "[2021-02-10 01:33:44,845 INFO] Lock 140422276590280 acquired on /root/.cache/huggingface/transformers/d53fc0fa09b8342651efd4073d75e19617b3e51287c2a535becda5808a8db287.fc9576039592f026ad76a1c231b89aee8668488c671dfbe6616bab2ed298d730.lock\n"
     ]
    },
    {
     "data": {
      "application/vnd.jupyter.widget-view+json": {
       "model_id": "5b6938cacc174a038841a5e67fad27c5",
       "version_major": 2,
       "version_minor": 0
      },
      "text/plain": [
       "HBox(children=(FloatProgress(value=0.0, description='Downloading', max=1355863.0, style=ProgressStyle(descript…"
      ]
     },
     "metadata": {
      "tags": []
     },
     "output_type": "display_data"
    },
    {
     "name": "stderr",
     "output_type": "stream",
     "text": [
      "[2021-02-10 01:33:45,543 INFO] Lock 140422276590280 released on /root/.cache/huggingface/transformers/d53fc0fa09b8342651efd4073d75e19617b3e51287c2a535becda5808a8db287.fc9576039592f026ad76a1c231b89aee8668488c671dfbe6616bab2ed298d730.lock\n"
     ]
    },
    {
     "name": "stdout",
     "output_type": "stream",
     "text": [
      "\n"
     ]
    }
   ],
   "source": [
    "mtl = elit.load(elit.pretrained.mtl.LEM_POS_NER_DEP_SDP_CON_AMR_ROBERTA_BASE_EN)"
   ]
  },
  {
   "cell_type": "markdown",
   "metadata": {
    "id": "GT6lULzuj_uP"
   },
   "source": [
    "Once you call `load` on a model, ELIT will download it and load it into the main memory or the GPU if you have one. The loaded model behaves just like a function which you can pass in a list of tokenized sentences as arguments and get the annotations as the returned value."
   ]
  },
  {
   "cell_type": "code",
   "execution_count": 9,
   "metadata": {
    "colab": {
     "base_uri": "https://localhost:8080/"
    },
    "id": "3ecrBs0xkjxG",
    "outputId": "6357f0b2-98c5-4cef-de00-a2faa0bcc9d7"
   },
   "outputs": [
    {
     "data": {
      "text/plain": [
       "{'amr': [<AMRGraph object (top=c0) at 140422118106392>,\n",
       "  <AMRGraph object (top=c0) at 140422118108128>],\n",
       " 'con': [['TOP', [['S', [['NP', [['NNP', ['Emory']], ['NNP', ['NLP']]]], ['VP', [['VBZ', ['is']], ['NP', [['NP', [['DT', ['a']], ['NN', ['research']], ['NN', ['lab']]]], ['PP', [['IN', ['in']], ['NP', [['NNP', ['Atlanta']]]]]]]]]], ['.', ['.']]]]]],\n",
       "  ['TOP', [['S', [['S', [['NP', [['PRP', ['It']]]], ['VP', [['VBZ', ['is']], ['VP', [['VBN', ['founded']], ['PP', [['IN', ['by']], ['NP', [['NNP', ['Jinho']], ['NNP', ['D.']], ['NNP', ['Choi']]]]]], ['PP', [['IN', ['in']], ['NP', [['CD', ['2014']]]]]]]]]]]], ['.', ['.']], ['NP', [['NNP', ['Dr.']], ['NNP', ['Choi']]]], ['VP', [['VBZ', ['is']], ['NP', [['NP', [['DT', ['a']], ['NN', ['professor']]]], ['PP', [['IN', ['at']], ['NP', [['NNP', ['Emory']], ['NNP', ['University']]]]]]]]]], ['.', ['.']]]]]]],\n",
       " 'dep': [[(2, 'com'),\n",
       "   (6, 'nsbj'),\n",
       "   (6, 'cop'),\n",
       "   (6, 'det'),\n",
       "   (6, 'com'),\n",
       "   (0, 'root'),\n",
       "   (8, 'case'),\n",
       "   (6, 'ppmod'),\n",
       "   (6, 'p')],\n",
       "  [(3, 'obj'),\n",
       "   (3, 'aux'),\n",
       "   (0, 'root'),\n",
       "   (7, 'case'),\n",
       "   (7, 'com'),\n",
       "   (7, 'com'),\n",
       "   (3, 'nsbj'),\n",
       "   (9, 'case'),\n",
       "   (3, 'ppmod'),\n",
       "   (3, 'p'),\n",
       "   (12, 'com'),\n",
       "   (15, 'nsbj'),\n",
       "   (15, 'cop'),\n",
       "   (5, 'det'),\n",
       "   (0, 'root'),\n",
       "   (18, 'case'),\n",
       "   (18, 'com'),\n",
       "   (15, 'ppmod'),\n",
       "   (5, 'p')]],\n",
       " 'lem': [['emory', 'nlp', 'be', 'a', 'research', 'lab', 'in', 'atlanta', '.'],\n",
       "  ['it',\n",
       "   'be',\n",
       "   'found',\n",
       "   'by',\n",
       "   'jinho',\n",
       "   'd.',\n",
       "   'choi',\n",
       "   'in',\n",
       "   '2014',\n",
       "   '.',\n",
       "   'dr.',\n",
       "   'chous',\n",
       "   'be',\n",
       "   'a',\n",
       "   'professor',\n",
       "   'at',\n",
       "   'emory',\n",
       "   'university',\n",
       "   '.']],\n",
       " 'ner': [[('Emory NLP', 'ORG', 0, 2), ('Atlanta', 'GPE', 7, 8)],\n",
       "  [('Jinho D. Choi', 'PERSON', 4, 7),\n",
       "   ('2014', 'DATE', 8, 9),\n",
       "   ('Choi', 'PERSON', 11, 12),\n",
       "   ('Emory University', 'ORG', 16, 18)]],\n",
       " 'pos': [['NNP', 'NNP', 'VBZ', 'DT', 'NN', 'NN', 'IN', 'NNP', '.'],\n",
       "  ['PRP',\n",
       "   'VBZ',\n",
       "   'VBN',\n",
       "   'IN',\n",
       "   'NNP',\n",
       "   'NNP',\n",
       "   'NNP',\n",
       "   'IN',\n",
       "   'CD',\n",
       "   '.',\n",
       "   'NNP',\n",
       "   'NNP',\n",
       "   'VBZ',\n",
       "   'DT',\n",
       "   'NN',\n",
       "   'IN',\n",
       "   'NNP',\n",
       "   'NNP',\n",
       "   '.']],\n",
       " 'srl': [[[('Emory NLP', 'ARG1', 0, 2),\n",
       "    ('is', 'PRED', 2, 3),\n",
       "    ('a research lab in Atlanta', 'ARG2', 3, 8)]],\n",
       "  [[('Dr. Choi', 'ARG1', 10, 12),\n",
       "    ('is', 'PRED', 12, 13),\n",
       "    ('a professor at Emory University', 'ARG2', 13, 18)],\n",
       "   [('It', 'ARG1', 0, 1),\n",
       "    ('founded', 'PRED', 2, 3),\n",
       "    ('by Jinho D. Choi', 'ARG0', 3, 7),\n",
       "    ('in 2014', 'ARGM-TMP', 7, 9)]]],\n",
       " 'tok': [['Emory', 'NLP', 'is', 'a', 'research', 'lab', 'in', 'Atlanta', '.'],\n",
       "  ['It',\n",
       "   'is',\n",
       "   'founded',\n",
       "   'by',\n",
       "   'Jinho',\n",
       "   'D.',\n",
       "   'Choi',\n",
       "   'in',\n",
       "   '2014',\n",
       "   '.',\n",
       "   'Dr.',\n",
       "   'Choi',\n",
       "   'is',\n",
       "   'a',\n",
       "   'professor',\n",
       "   'at',\n",
       "   'Emory',\n",
       "   'University',\n",
       "   '.']]}"
      ]
     },
     "execution_count": 9,
     "metadata": {
      "tags": []
     },
     "output_type": "execute_result"
    }
   ],
   "source": [
    "doc = mtl([\n",
    "     [\"Emory\", \"NLP\", \"is\", \"a\", \"research\", \"lab\", \"in\", \"Atlanta\", \".\"],\n",
    "     [\"It\", \"is\", \"founded\", \"by\", \"Jinho\", \"D.\", \"Choi\", \"in\", \"2014\", \".\", \"Dr.\", \"Choi\", \"is\", \"a\", \"professor\", \"at\", \"Emory\", \"University\", \".\"]\n",
    "])\n",
    "doc"
   ]
  },
  {
   "cell_type": "markdown",
   "metadata": {
    "id": "zyckra2slA0v"
   },
   "source": [
    "As you can see, the returned `doc` is a Python dict storing outputs from different models. Refer to our GitHub docs for its format and guidelines."
   ]
  }
 ],
 "metadata": {
  "colab": {
   "collapsed_sections": [],
   "name": "elit.ipynb",
   "provenance": []
  },
  "kernelspec": {
   "display_name": "Python 3",
   "language": "python",
   "name": "python3"
  },
  "language_info": {
   "codemirror_mode": {
    "name": "ipython",
    "version": 3
   },
   "file_extension": ".py",
   "mimetype": "text/x-python",
   "name": "python",
   "nbconvert_exporter": "python",
   "pygments_lexer": "ipython3",
   "version": "3.7.8"
  },
  "widgets": {
   "application/vnd.jupyter.widget-state+json": {
    "083d8838c9e747fe84851b70bc9f8dd6": {
     "model_module": "@jupyter-widgets/controls",
     "model_name": "DescriptionStyleModel",
     "state": {
      "_model_module": "@jupyter-widgets/controls",
      "_model_module_version": "1.5.0",
      "_model_name": "DescriptionStyleModel",
      "_view_count": null,
      "_view_module": "@jupyter-widgets/base",
      "_view_module_version": "1.2.0",
      "_view_name": "StyleView",
      "description_width": ""
     }
    },
    "1cde4e5a80614ac3bd0b7a725a1cf55f": {
     "model_module": "@jupyter-widgets/base",
     "model_name": "LayoutModel",
     "state": {
      "_model_module": "@jupyter-widgets/base",
      "_model_module_version": "1.2.0",
      "_model_name": "LayoutModel",
      "_view_count": null,
      "_view_module": "@jupyter-widgets/base",
      "_view_module_version": "1.2.0",
      "_view_name": "LayoutView",
      "align_content": null,
      "align_items": null,
      "align_self": null,
      "border": null,
      "bottom": null,
      "display": null,
      "flex": null,
      "flex_flow": null,
      "grid_area": null,
      "grid_auto_columns": null,
      "grid_auto_flow": null,
      "grid_auto_rows": null,
      "grid_column": null,
      "grid_gap": null,
      "grid_row": null,
      "grid_template_areas": null,
      "grid_template_columns": null,
      "grid_template_rows": null,
      "height": null,
      "justify_content": null,
      "justify_items": null,
      "left": null,
      "margin": null,
      "max_height": null,
      "max_width": null,
      "min_height": null,
      "min_width": null,
      "object_fit": null,
      "object_position": null,
      "order": null,
      "overflow": null,
      "overflow_x": null,
      "overflow_y": null,
      "padding": null,
      "right": null,
      "top": null,
      "visibility": null,
      "width": null
     }
    },
    "233f25e2c4e344fda8b14043a7538ba4": {
     "model_module": "@jupyter-widgets/base",
     "model_name": "LayoutModel",
     "state": {
      "_model_module": "@jupyter-widgets/base",
      "_model_module_version": "1.2.0",
      "_model_name": "LayoutModel",
      "_view_count": null,
      "_view_module": "@jupyter-widgets/base",
      "_view_module_version": "1.2.0",
      "_view_name": "LayoutView",
      "align_content": null,
      "align_items": null,
      "align_self": null,
      "border": null,
      "bottom": null,
      "display": null,
      "flex": null,
      "flex_flow": null,
      "grid_area": null,
      "grid_auto_columns": null,
      "grid_auto_flow": null,
      "grid_auto_rows": null,
      "grid_column": null,
      "grid_gap": null,
      "grid_row": null,
      "grid_template_areas": null,
      "grid_template_columns": null,
      "grid_template_rows": null,
      "height": null,
      "justify_content": null,
      "justify_items": null,
      "left": null,
      "margin": null,
      "max_height": null,
      "max_width": null,
      "min_height": null,
      "min_width": null,
      "object_fit": null,
      "object_position": null,
      "order": null,
      "overflow": null,
      "overflow_x": null,
      "overflow_y": null,
      "padding": null,
      "right": null,
      "top": null,
      "visibility": null,
      "width": null
     }
    },
    "2648ec6ff34541cfa90eaebd194fe71d": {
     "model_module": "@jupyter-widgets/controls",
     "model_name": "HTMLModel",
     "state": {
      "_dom_classes": [],
      "_model_module": "@jupyter-widgets/controls",
      "_model_module_version": "1.5.0",
      "_model_name": "HTMLModel",
      "_view_count": null,
      "_view_module": "@jupyter-widgets/controls",
      "_view_module_version": "1.5.0",
      "_view_name": "HTMLView",
      "description": "",
      "description_tooltip": null,
      "layout": "IPY_MODEL_aaf3d9618cb04a76bb3f676f510e8e9d",
      "placeholder": "​",
      "style": "IPY_MODEL_8e2cd821c7634bb398f12baa71c8246c",
      "value": " 1.36M/1.36M [00:00&lt;00:00, 1.90MB/s]"
     }
    },
    "2d31f00b0f8c49758734777c251781c0": {
     "model_module": "@jupyter-widgets/controls",
     "model_name": "HTMLModel",
     "state": {
      "_dom_classes": [],
      "_model_module": "@jupyter-widgets/controls",
      "_model_module_version": "1.5.0",
      "_model_name": "HTMLModel",
      "_view_count": null,
      "_view_module": "@jupyter-widgets/controls",
      "_view_module_version": "1.5.0",
      "_view_name": "HTMLView",
      "description": "",
      "description_tooltip": null,
      "layout": "IPY_MODEL_4807dbb9f9e7496e9c279768c684f35b",
      "placeholder": "​",
      "style": "IPY_MODEL_083d8838c9e747fe84851b70bc9f8dd6",
      "value": " 899k/899k [00:01&lt;00:00, 847kB/s]"
     }
    },
    "30dfe49443bd403c97eab5651139a50b": {
     "model_module": "@jupyter-widgets/controls",
     "model_name": "ProgressStyleModel",
     "state": {
      "_model_module": "@jupyter-widgets/controls",
      "_model_module_version": "1.5.0",
      "_model_name": "ProgressStyleModel",
      "_view_count": null,
      "_view_module": "@jupyter-widgets/base",
      "_view_module_version": "1.2.0",
      "_view_name": "StyleView",
      "bar_color": null,
      "description_width": "initial"
     }
    },
    "335d58e158ff44319f4cb9829bafbad9": {
     "model_module": "@jupyter-widgets/base",
     "model_name": "LayoutModel",
     "state": {
      "_model_module": "@jupyter-widgets/base",
      "_model_module_version": "1.2.0",
      "_model_name": "LayoutModel",
      "_view_count": null,
      "_view_module": "@jupyter-widgets/base",
      "_view_module_version": "1.2.0",
      "_view_name": "LayoutView",
      "align_content": null,
      "align_items": null,
      "align_self": null,
      "border": null,
      "bottom": null,
      "display": null,
      "flex": null,
      "flex_flow": null,
      "grid_area": null,
      "grid_auto_columns": null,
      "grid_auto_flow": null,
      "grid_auto_rows": null,
      "grid_column": null,
      "grid_gap": null,
      "grid_row": null,
      "grid_template_areas": null,
      "grid_template_columns": null,
      "grid_template_rows": null,
      "height": null,
      "justify_content": null,
      "justify_items": null,
      "left": null,
      "margin": null,
      "max_height": null,
      "max_width": null,
      "min_height": null,
      "min_width": null,
      "object_fit": null,
      "object_position": null,
      "order": null,
      "overflow": null,
      "overflow_x": null,
      "overflow_y": null,
      "padding": null,
      "right": null,
      "top": null,
      "visibility": null,
      "width": null
     }
    },
    "4807dbb9f9e7496e9c279768c684f35b": {
     "model_module": "@jupyter-widgets/base",
     "model_name": "LayoutModel",
     "state": {
      "_model_module": "@jupyter-widgets/base",
      "_model_module_version": "1.2.0",
      "_model_name": "LayoutModel",
      "_view_count": null,
      "_view_module": "@jupyter-widgets/base",
      "_view_module_version": "1.2.0",
      "_view_name": "LayoutView",
      "align_content": null,
      "align_items": null,
      "align_self": null,
      "border": null,
      "bottom": null,
      "display": null,
      "flex": null,
      "flex_flow": null,
      "grid_area": null,
      "grid_auto_columns": null,
      "grid_auto_flow": null,
      "grid_auto_rows": null,
      "grid_column": null,
      "grid_gap": null,
      "grid_row": null,
      "grid_template_areas": null,
      "grid_template_columns": null,
      "grid_template_rows": null,
      "height": null,
      "justify_content": null,
      "justify_items": null,
      "left": null,
      "margin": null,
      "max_height": null,
      "max_width": null,
      "min_height": null,
      "min_width": null,
      "object_fit": null,
      "object_position": null,
      "order": null,
      "overflow": null,
      "overflow_x": null,
      "overflow_y": null,
      "padding": null,
      "right": null,
      "top": null,
      "visibility": null,
      "width": null
     }
    },
    "483fff57b9674b21b306916e999a00b5": {
     "model_module": "@jupyter-widgets/base",
     "model_name": "LayoutModel",
     "state": {
      "_model_module": "@jupyter-widgets/base",
      "_model_module_version": "1.2.0",
      "_model_name": "LayoutModel",
      "_view_count": null,
      "_view_module": "@jupyter-widgets/base",
      "_view_module_version": "1.2.0",
      "_view_name": "LayoutView",
      "align_content": null,
      "align_items": null,
      "align_self": null,
      "border": null,
      "bottom": null,
      "display": null,
      "flex": null,
      "flex_flow": null,
      "grid_area": null,
      "grid_auto_columns": null,
      "grid_auto_flow": null,
      "grid_auto_rows": null,
      "grid_column": null,
      "grid_gap": null,
      "grid_row": null,
      "grid_template_areas": null,
      "grid_template_columns": null,
      "grid_template_rows": null,
      "height": null,
      "justify_content": null,
      "justify_items": null,
      "left": null,
      "margin": null,
      "max_height": null,
      "max_width": null,
      "min_height": null,
      "min_width": null,
      "object_fit": null,
      "object_position": null,
      "order": null,
      "overflow": null,
      "overflow_x": null,
      "overflow_y": null,
      "padding": null,
      "right": null,
      "top": null,
      "visibility": null,
      "width": null
     }
    },
    "5b6938cacc174a038841a5e67fad27c5": {
     "model_module": "@jupyter-widgets/controls",
     "model_name": "HBoxModel",
     "state": {
      "_dom_classes": [],
      "_model_module": "@jupyter-widgets/controls",
      "_model_module_version": "1.5.0",
      "_model_name": "HBoxModel",
      "_view_count": null,
      "_view_module": "@jupyter-widgets/controls",
      "_view_module_version": "1.5.0",
      "_view_name": "HBoxView",
      "box_style": "",
      "children": [
       "IPY_MODEL_743fee8fbfc74214a724d560a0df7ff7",
       "IPY_MODEL_2648ec6ff34541cfa90eaebd194fe71d"
      ],
      "layout": "IPY_MODEL_335d58e158ff44319f4cb9829bafbad9"
     }
    },
    "60fbc730923d490bb1ff201467f3e77c": {
     "model_module": "@jupyter-widgets/controls",
     "model_name": "HBoxModel",
     "state": {
      "_dom_classes": [],
      "_model_module": "@jupyter-widgets/controls",
      "_model_module_version": "1.5.0",
      "_model_name": "HBoxModel",
      "_view_count": null,
      "_view_module": "@jupyter-widgets/controls",
      "_view_module_version": "1.5.0",
      "_view_name": "HBoxView",
      "box_style": "",
      "children": [
       "IPY_MODEL_ce8025139f304b68ac74f1adae5c732b",
       "IPY_MODEL_a450d122e4624c5396d45faecc8d0669"
      ],
      "layout": "IPY_MODEL_483fff57b9674b21b306916e999a00b5"
     }
    },
    "65cea109d54b4107bc14e067975c10cc": {
     "model_module": "@jupyter-widgets/controls",
     "model_name": "HTMLModel",
     "state": {
      "_dom_classes": [],
      "_model_module": "@jupyter-widgets/controls",
      "_model_module_version": "1.5.0",
      "_model_name": "HTMLModel",
      "_view_count": null,
      "_view_module": "@jupyter-widgets/controls",
      "_view_module_version": "1.5.0",
      "_view_name": "HTMLView",
      "description": "",
      "description_tooltip": null,
      "layout": "IPY_MODEL_ddf835fef52347dc9da373ee0a4fd06d",
      "placeholder": "​",
      "style": "IPY_MODEL_a617a1c973a64fd186c8e5d2c9a0c07f",
      "value": " 481/481 [00:03&lt;00:00, 154B/s]"
     }
    },
    "6abde990df3242088902cffe12dc00a0": {
     "model_module": "@jupyter-widgets/base",
     "model_name": "LayoutModel",
     "state": {
      "_model_module": "@jupyter-widgets/base",
      "_model_module_version": "1.2.0",
      "_model_name": "LayoutModel",
      "_view_count": null,
      "_view_module": "@jupyter-widgets/base",
      "_view_module_version": "1.2.0",
      "_view_name": "LayoutView",
      "align_content": null,
      "align_items": null,
      "align_self": null,
      "border": null,
      "bottom": null,
      "display": null,
      "flex": null,
      "flex_flow": null,
      "grid_area": null,
      "grid_auto_columns": null,
      "grid_auto_flow": null,
      "grid_auto_rows": null,
      "grid_column": null,
      "grid_gap": null,
      "grid_row": null,
      "grid_template_areas": null,
      "grid_template_columns": null,
      "grid_template_rows": null,
      "height": null,
      "justify_content": null,
      "justify_items": null,
      "left": null,
      "margin": null,
      "max_height": null,
      "max_width": null,
      "min_height": null,
      "min_width": null,
      "object_fit": null,
      "object_position": null,
      "order": null,
      "overflow": null,
      "overflow_x": null,
      "overflow_y": null,
      "padding": null,
      "right": null,
      "top": null,
      "visibility": null,
      "width": null
     }
    },
    "6d7b59f8f5414bea91f1b54666d088e1": {
     "model_module": "@jupyter-widgets/base",
     "model_name": "LayoutModel",
     "state": {
      "_model_module": "@jupyter-widgets/base",
      "_model_module_version": "1.2.0",
      "_model_name": "LayoutModel",
      "_view_count": null,
      "_view_module": "@jupyter-widgets/base",
      "_view_module_version": "1.2.0",
      "_view_name": "LayoutView",
      "align_content": null,
      "align_items": null,
      "align_self": null,
      "border": null,
      "bottom": null,
      "display": null,
      "flex": null,
      "flex_flow": null,
      "grid_area": null,
      "grid_auto_columns": null,
      "grid_auto_flow": null,
      "grid_auto_rows": null,
      "grid_column": null,
      "grid_gap": null,
      "grid_row": null,
      "grid_template_areas": null,
      "grid_template_columns": null,
      "grid_template_rows": null,
      "height": null,
      "justify_content": null,
      "justify_items": null,
      "left": null,
      "margin": null,
      "max_height": null,
      "max_width": null,
      "min_height": null,
      "min_width": null,
      "object_fit": null,
      "object_position": null,
      "order": null,
      "overflow": null,
      "overflow_x": null,
      "overflow_y": null,
      "padding": null,
      "right": null,
      "top": null,
      "visibility": null,
      "width": null
     }
    },
    "6dfef9ae28e549e591042ccc198ae056": {
     "model_module": "@jupyter-widgets/controls",
     "model_name": "DescriptionStyleModel",
     "state": {
      "_model_module": "@jupyter-widgets/controls",
      "_model_module_version": "1.5.0",
      "_model_name": "DescriptionStyleModel",
      "_view_count": null,
      "_view_module": "@jupyter-widgets/base",
      "_view_module_version": "1.2.0",
      "_view_name": "StyleView",
      "description_width": ""
     }
    },
    "743fee8fbfc74214a724d560a0df7ff7": {
     "model_module": "@jupyter-widgets/controls",
     "model_name": "FloatProgressModel",
     "state": {
      "_dom_classes": [],
      "_model_module": "@jupyter-widgets/controls",
      "_model_module_version": "1.5.0",
      "_model_name": "FloatProgressModel",
      "_view_count": null,
      "_view_module": "@jupyter-widgets/controls",
      "_view_module_version": "1.5.0",
      "_view_name": "ProgressView",
      "bar_style": "success",
      "description": "Downloading: 100%",
      "description_tooltip": null,
      "layout": "IPY_MODEL_6abde990df3242088902cffe12dc00a0",
      "max": 1355863,
      "min": 0,
      "orientation": "horizontal",
      "style": "IPY_MODEL_30dfe49443bd403c97eab5651139a50b",
      "value": 1355863
     }
    },
    "812879fb4f5f4e7e8c7423f17e3c791f": {
     "model_module": "@jupyter-widgets/controls",
     "model_name": "HBoxModel",
     "state": {
      "_dom_classes": [],
      "_model_module": "@jupyter-widgets/controls",
      "_model_module_version": "1.5.0",
      "_model_name": "HBoxModel",
      "_view_count": null,
      "_view_module": "@jupyter-widgets/controls",
      "_view_module_version": "1.5.0",
      "_view_name": "HBoxView",
      "box_style": "",
      "children": [
       "IPY_MODEL_cb4028b0a529489c8999acd7189f751c",
       "IPY_MODEL_2d31f00b0f8c49758734777c251781c0"
      ],
      "layout": "IPY_MODEL_85db0313c6d64c0e8a988b21e2989636"
     }
    },
    "85db0313c6d64c0e8a988b21e2989636": {
     "model_module": "@jupyter-widgets/base",
     "model_name": "LayoutModel",
     "state": {
      "_model_module": "@jupyter-widgets/base",
      "_model_module_version": "1.2.0",
      "_model_name": "LayoutModel",
      "_view_count": null,
      "_view_module": "@jupyter-widgets/base",
      "_view_module_version": "1.2.0",
      "_view_name": "LayoutView",
      "align_content": null,
      "align_items": null,
      "align_self": null,
      "border": null,
      "bottom": null,
      "display": null,
      "flex": null,
      "flex_flow": null,
      "grid_area": null,
      "grid_auto_columns": null,
      "grid_auto_flow": null,
      "grid_auto_rows": null,
      "grid_column": null,
      "grid_gap": null,
      "grid_row": null,
      "grid_template_areas": null,
      "grid_template_columns": null,
      "grid_template_rows": null,
      "height": null,
      "justify_content": null,
      "justify_items": null,
      "left": null,
      "margin": null,
      "max_height": null,
      "max_width": null,
      "min_height": null,
      "min_width": null,
      "object_fit": null,
      "object_position": null,
      "order": null,
      "overflow": null,
      "overflow_x": null,
      "overflow_y": null,
      "padding": null,
      "right": null,
      "top": null,
      "visibility": null,
      "width": null
     }
    },
    "8e2cd821c7634bb398f12baa71c8246c": {
     "model_module": "@jupyter-widgets/controls",
     "model_name": "DescriptionStyleModel",
     "state": {
      "_model_module": "@jupyter-widgets/controls",
      "_model_module_version": "1.5.0",
      "_model_name": "DescriptionStyleModel",
      "_view_count": null,
      "_view_module": "@jupyter-widgets/base",
      "_view_module_version": "1.2.0",
      "_view_name": "StyleView",
      "description_width": ""
     }
    },
    "a450d122e4624c5396d45faecc8d0669": {
     "model_module": "@jupyter-widgets/controls",
     "model_name": "HTMLModel",
     "state": {
      "_dom_classes": [],
      "_model_module": "@jupyter-widgets/controls",
      "_model_module_version": "1.5.0",
      "_model_name": "HTMLModel",
      "_view_count": null,
      "_view_module": "@jupyter-widgets/controls",
      "_view_module_version": "1.5.0",
      "_view_name": "HTMLView",
      "description": "",
      "description_tooltip": null,
      "layout": "IPY_MODEL_233f25e2c4e344fda8b14043a7538ba4",
      "placeholder": "​",
      "style": "IPY_MODEL_6dfef9ae28e549e591042ccc198ae056",
      "value": " 456k/456k [00:01&lt;00:00, 294kB/s]"
     }
    },
    "a617a1c973a64fd186c8e5d2c9a0c07f": {
     "model_module": "@jupyter-widgets/controls",
     "model_name": "DescriptionStyleModel",
     "state": {
      "_model_module": "@jupyter-widgets/controls",
      "_model_module_version": "1.5.0",
      "_model_name": "DescriptionStyleModel",
      "_view_count": null,
      "_view_module": "@jupyter-widgets/base",
      "_view_module_version": "1.2.0",
      "_view_name": "StyleView",
      "description_width": ""
     }
    },
    "aaf3d9618cb04a76bb3f676f510e8e9d": {
     "model_module": "@jupyter-widgets/base",
     "model_name": "LayoutModel",
     "state": {
      "_model_module": "@jupyter-widgets/base",
      "_model_module_version": "1.2.0",
      "_model_name": "LayoutModel",
      "_view_count": null,
      "_view_module": "@jupyter-widgets/base",
      "_view_module_version": "1.2.0",
      "_view_name": "LayoutView",
      "align_content": null,
      "align_items": null,
      "align_self": null,
      "border": null,
      "bottom": null,
      "display": null,
      "flex": null,
      "flex_flow": null,
      "grid_area": null,
      "grid_auto_columns": null,
      "grid_auto_flow": null,
      "grid_auto_rows": null,
      "grid_column": null,
      "grid_gap": null,
      "grid_row": null,
      "grid_template_areas": null,
      "grid_template_columns": null,
      "grid_template_rows": null,
      "height": null,
      "justify_content": null,
      "justify_items": null,
      "left": null,
      "margin": null,
      "max_height": null,
      "max_width": null,
      "min_height": null,
      "min_width": null,
      "object_fit": null,
      "object_position": null,
      "order": null,
      "overflow": null,
      "overflow_x": null,
      "overflow_y": null,
      "padding": null,
      "right": null,
      "top": null,
      "visibility": null,
      "width": null
     }
    },
    "ade6a90971f0460eb96f12cd27f75041": {
     "model_module": "@jupyter-widgets/controls",
     "model_name": "ProgressStyleModel",
     "state": {
      "_model_module": "@jupyter-widgets/controls",
      "_model_module_version": "1.5.0",
      "_model_name": "ProgressStyleModel",
      "_view_count": null,
      "_view_module": "@jupyter-widgets/base",
      "_view_module_version": "1.2.0",
      "_view_name": "StyleView",
      "bar_color": null,
      "description_width": "initial"
     }
    },
    "b8301e17364d4fc88b372e4f5fc92c62": {
     "model_module": "@jupyter-widgets/controls",
     "model_name": "ProgressStyleModel",
     "state": {
      "_model_module": "@jupyter-widgets/controls",
      "_model_module_version": "1.5.0",
      "_model_name": "ProgressStyleModel",
      "_view_count": null,
      "_view_module": "@jupyter-widgets/base",
      "_view_module_version": "1.2.0",
      "_view_name": "StyleView",
      "bar_color": null,
      "description_width": "initial"
     }
    },
    "cb4028b0a529489c8999acd7189f751c": {
     "model_module": "@jupyter-widgets/controls",
     "model_name": "FloatProgressModel",
     "state": {
      "_dom_classes": [],
      "_model_module": "@jupyter-widgets/controls",
      "_model_module_version": "1.5.0",
      "_model_name": "FloatProgressModel",
      "_view_count": null,
      "_view_module": "@jupyter-widgets/controls",
      "_view_module_version": "1.5.0",
      "_view_name": "ProgressView",
      "bar_style": "success",
      "description": "Downloading: 100%",
      "description_tooltip": null,
      "layout": "IPY_MODEL_1cde4e5a80614ac3bd0b7a725a1cf55f",
      "max": 898823,
      "min": 0,
      "orientation": "horizontal",
      "style": "IPY_MODEL_b8301e17364d4fc88b372e4f5fc92c62",
      "value": 898823
     }
    },
    "ce8025139f304b68ac74f1adae5c732b": {
     "model_module": "@jupyter-widgets/controls",
     "model_name": "FloatProgressModel",
     "state": {
      "_dom_classes": [],
      "_model_module": "@jupyter-widgets/controls",
      "_model_module_version": "1.5.0",
      "_model_name": "FloatProgressModel",
      "_view_count": null,
      "_view_module": "@jupyter-widgets/controls",
      "_view_module_version": "1.5.0",
      "_view_name": "ProgressView",
      "bar_style": "success",
      "description": "Downloading: 100%",
      "description_tooltip": null,
      "layout": "IPY_MODEL_6d7b59f8f5414bea91f1b54666d088e1",
      "max": 456318,
      "min": 0,
      "orientation": "horizontal",
      "style": "IPY_MODEL_ade6a90971f0460eb96f12cd27f75041",
      "value": 456318
     }
    },
    "d9e9aeb4335048b29d25637e1c546299": {
     "model_module": "@jupyter-widgets/base",
     "model_name": "LayoutModel",
     "state": {
      "_model_module": "@jupyter-widgets/base",
      "_model_module_version": "1.2.0",
      "_model_name": "LayoutModel",
      "_view_count": null,
      "_view_module": "@jupyter-widgets/base",
      "_view_module_version": "1.2.0",
      "_view_name": "LayoutView",
      "align_content": null,
      "align_items": null,
      "align_self": null,
      "border": null,
      "bottom": null,
      "display": null,
      "flex": null,
      "flex_flow": null,
      "grid_area": null,
      "grid_auto_columns": null,
      "grid_auto_flow": null,
      "grid_auto_rows": null,
      "grid_column": null,
      "grid_gap": null,
      "grid_row": null,
      "grid_template_areas": null,
      "grid_template_columns": null,
      "grid_template_rows": null,
      "height": null,
      "justify_content": null,
      "justify_items": null,
      "left": null,
      "margin": null,
      "max_height": null,
      "max_width": null,
      "min_height": null,
      "min_width": null,
      "object_fit": null,
      "object_position": null,
      "order": null,
      "overflow": null,
      "overflow_x": null,
      "overflow_y": null,
      "padding": null,
      "right": null,
      "top": null,
      "visibility": null,
      "width": null
     }
    },
    "ddf835fef52347dc9da373ee0a4fd06d": {
     "model_module": "@jupyter-widgets/base",
     "model_name": "LayoutModel",
     "state": {
      "_model_module": "@jupyter-widgets/base",
      "_model_module_version": "1.2.0",
      "_model_name": "LayoutModel",
      "_view_count": null,
      "_view_module": "@jupyter-widgets/base",
      "_view_module_version": "1.2.0",
      "_view_name": "LayoutView",
      "align_content": null,
      "align_items": null,
      "align_self": null,
      "border": null,
      "bottom": null,
      "display": null,
      "flex": null,
      "flex_flow": null,
      "grid_area": null,
      "grid_auto_columns": null,
      "grid_auto_flow": null,
      "grid_auto_rows": null,
      "grid_column": null,
      "grid_gap": null,
      "grid_row": null,
      "grid_template_areas": null,
      "grid_template_columns": null,
      "grid_template_rows": null,
      "height": null,
      "justify_content": null,
      "justify_items": null,
      "left": null,
      "margin": null,
      "max_height": null,
      "max_width": null,
      "min_height": null,
      "min_width": null,
      "object_fit": null,
      "object_position": null,
      "order": null,
      "overflow": null,
      "overflow_x": null,
      "overflow_y": null,
      "padding": null,
      "right": null,
      "top": null,
      "visibility": null,
      "width": null
     }
    },
    "e97ed112c6514d338c52dd6336d90846": {
     "model_module": "@jupyter-widgets/controls",
     "model_name": "FloatProgressModel",
     "state": {
      "_dom_classes": [],
      "_model_module": "@jupyter-widgets/controls",
      "_model_module_version": "1.5.0",
      "_model_name": "FloatProgressModel",
      "_view_count": null,
      "_view_module": "@jupyter-widgets/controls",
      "_view_module_version": "1.5.0",
      "_view_name": "ProgressView",
      "bar_style": "success",
      "description": "Downloading: 100%",
      "description_tooltip": null,
      "layout": "IPY_MODEL_d9e9aeb4335048b29d25637e1c546299",
      "max": 481,
      "min": 0,
      "orientation": "horizontal",
      "style": "IPY_MODEL_fe2d3c2b85954622ae7e89aeaab17aec",
      "value": 481
     }
    },
    "f059614b4f7c4a8091d11b9f47e3bc65": {
     "model_module": "@jupyter-widgets/base",
     "model_name": "LayoutModel",
     "state": {
      "_model_module": "@jupyter-widgets/base",
      "_model_module_version": "1.2.0",
      "_model_name": "LayoutModel",
      "_view_count": null,
      "_view_module": "@jupyter-widgets/base",
      "_view_module_version": "1.2.0",
      "_view_name": "LayoutView",
      "align_content": null,
      "align_items": null,
      "align_self": null,
      "border": null,
      "bottom": null,
      "display": null,
      "flex": null,
      "flex_flow": null,
      "grid_area": null,
      "grid_auto_columns": null,
      "grid_auto_flow": null,
      "grid_auto_rows": null,
      "grid_column": null,
      "grid_gap": null,
      "grid_row": null,
      "grid_template_areas": null,
      "grid_template_columns": null,
      "grid_template_rows": null,
      "height": null,
      "justify_content": null,
      "justify_items": null,
      "left": null,
      "margin": null,
      "max_height": null,
      "max_width": null,
      "min_height": null,
      "min_width": null,
      "object_fit": null,
      "object_position": null,
      "order": null,
      "overflow": null,
      "overflow_x": null,
      "overflow_y": null,
      "padding": null,
      "right": null,
      "top": null,
      "visibility": null,
      "width": null
     }
    },
    "f1f828817c8d4ca388b4e042fdd1fc01": {
     "model_module": "@jupyter-widgets/controls",
     "model_name": "HBoxModel",
     "state": {
      "_dom_classes": [],
      "_model_module": "@jupyter-widgets/controls",
      "_model_module_version": "1.5.0",
      "_model_name": "HBoxModel",
      "_view_count": null,
      "_view_module": "@jupyter-widgets/controls",
      "_view_module_version": "1.5.0",
      "_view_name": "HBoxView",
      "box_style": "",
      "children": [
       "IPY_MODEL_e97ed112c6514d338c52dd6336d90846",
       "IPY_MODEL_65cea109d54b4107bc14e067975c10cc"
      ],
      "layout": "IPY_MODEL_f059614b4f7c4a8091d11b9f47e3bc65"
     }
    },
    "fe2d3c2b85954622ae7e89aeaab17aec": {
     "model_module": "@jupyter-widgets/controls",
     "model_name": "ProgressStyleModel",
     "state": {
      "_model_module": "@jupyter-widgets/controls",
      "_model_module_version": "1.5.0",
      "_model_name": "ProgressStyleModel",
      "_view_count": null,
      "_view_module": "@jupyter-widgets/base",
      "_view_module_version": "1.2.0",
      "_view_name": "StyleView",
      "bar_color": null,
      "description_width": "initial"
     }
    }
   }
  }
 },
 "nbformat": 4,
 "nbformat_minor": 1
}